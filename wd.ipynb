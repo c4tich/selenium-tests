{
 "cells": [
  {
   "cell_type": "markdown",
   "id": "ba9d7b63-c9d4-4254-8f37-ae29ac0aab6e",
   "metadata": {},
   "source": [
    "# Selenium tests\n",
    "\n",
    "Experiments with Selenium\n",
    "\n",
    "## How to use:\n",
    "1. Create a config file from the template\n",
    "\n",
    "```bash\n",
    "cp config.json.template config.json\n",
    "```\n",
    "\n",
    "2. Edit `config.json` filling in the correct details (path should not be changed unless you are sure)\n",
    "```bash\n",
    "vim config.json\n",
    "...\n",
    "```\n",
    "\n",
    "3. Run the notebook `wd.ipynb`"
   ]
  },
  {
   "cell_type": "code",
   "execution_count": 13,
   "id": "3cb08af9-3af8-469a-a151-daba0b8ac0ce",
   "metadata": {},
   "outputs": [],
   "source": [
    "from selenium import webdriver\n",
    "from selenium.webdriver.common.by import By\n",
    "from selenium.webdriver.common.keys import Keys\n",
    "from selenium.webdriver.support.ui import WebDriverWait\n",
    "from selenium.webdriver.support.expected_conditions import (\n",
    "    element_to_be_clickable,\n",
    "    visibility_of_element_located,\n",
    ")\n",
    "\n",
    "import time"
   ]
  },
  {
   "cell_type": "code",
   "execution_count": 14,
   "id": "bf8fc9c0-8dc6-4444-af91-454a3de6aca8",
   "metadata": {},
   "outputs": [],
   "source": [
    "def find_field_send_input(id_: str, key_to_insert: str):\n",
    "    element = (\n",
    "        WebDriverWait(driver, 10).until(\n",
    "            visibility_of_element_located((By.ID, id_))\n",
    "        )\n",
    "    )\n",
    "    \n",
    "    element.send_keys(key_to_insert + Keys.TAB)"
   ]
  },
  {
   "cell_type": "code",
   "execution_count": 15,
   "id": "94c727b7-b7a5-4764-b5f0-f3270a16be76",
   "metadata": {},
   "outputs": [],
   "source": [
    "def click_if_clickable(by, location_key, driver_instance):\n",
    "    element = (\n",
    "        WebDriverWait(driver_instance, 10).until(\n",
    "            element_to_be_clickable((by, location_key))\n",
    "        )\n",
    "    )\n",
    "    \n",
    "    element.click()"
   ]
  },
  {
   "cell_type": "code",
   "execution_count": 16,
   "id": "b5eb1c6b-e310-43b5-93fc-455095f15f60",
   "metadata": {},
   "outputs": [],
   "source": [
    "import json\n",
    "\n",
    "with open(\"config.json\", \"r\") as f:\n",
    "    config = json.load(f)"
   ]
  },
  {
   "cell_type": "code",
   "execution_count": null,
   "id": "d14212bd-5020-4fc8-98ee-c574e1fab35d",
   "metadata": {},
   "outputs": [],
   "source": [
    "with webdriver.Firefox() as driver:\n",
    "    \n",
    "    driver.get(config[\"path\"])\n",
    "    \n",
    "    elements_to_input = [\n",
    "        (\"userNameInput\", config[\"user\"]),\n",
    "        (\"passwordInput\", config[\"pass\"]),\n",
    "    ]\n",
    "    \n",
    "    for id_, key in elements_to_input:\n",
    "        find_field_send_input(id_, key)\n",
    "    \n",
    "    # uncomment below when ready\n",
    "    # required all calendar logic\n",
    "#    elements_to_click = [\n",
    "#        (By.ID, \"submitButton\"),\n",
    "#    ]\n",
    "        \n",
    "#    for by, key in elements_to_click:\n",
    "#        click_if_clickable(by, key, driver)\n",
    "    time.sleep(20000)\n",
    "    "
   ]
  },
  {
   "cell_type": "code",
   "execution_count": null,
   "id": "6ac0c508-0732-4954-a928-1781722d367a",
   "metadata": {},
   "outputs": [],
   "source": []
  }
 ],
 "metadata": {
  "kernelspec": {
   "display_name": "Selenium (python 3.10)",
   "language": "python",
   "name": "selenium"
  },
  "language_info": {
   "codemirror_mode": {
    "name": "ipython",
    "version": 3
   },
   "file_extension": ".py",
   "mimetype": "text/x-python",
   "name": "python",
   "nbconvert_exporter": "python",
   "pygments_lexer": "ipython3",
   "version": "3.10.4"
  }
 },
 "nbformat": 4,
 "nbformat_minor": 5
}
