{
 "cells": [
  {
   "cell_type": "code",
   "execution_count": 1,
   "id": "d0710794-a0f2-489e-82df-fd79ac111b47",
   "metadata": {},
   "outputs": [],
   "source": [
    "def find_field_send_input(id_: str, key_to_insert: str):\n",
    "    element = (\n",
    "        WebDriverWait(driver, 10).until(\n",
    "            visibility_of_element_located((By.ID, id_))\n",
    "        )\n",
    "    )\n",
    "    \n",
    "    element.send_keys(key_to_insert + Keys.TAB)"
   ]
  },
  {
   "cell_type": "code",
   "execution_count": 2,
   "id": "1c55d0ed-9557-46e0-ad95-bac1c1e16b1c",
   "metadata": {},
   "outputs": [],
   "source": [
    "def click_if_clickable(by, location_key, driver_instance):\n",
    "    element = (\n",
    "        WebDriverWait(driver_instance, 10).until(\n",
    "            element_to_be_clickable((by, location_key))\n",
    "        )\n",
    "    )\n",
    "    \n",
    "    element.click()"
   ]
  },
  {
   "cell_type": "code",
   "execution_count": null,
   "id": "77640581-9598-4a1d-8bfa-828ca534041e",
   "metadata": {},
   "outputs": [],
   "source": [
    "from selenium import webdriver\n",
    "from selenium.webdriver.common.by import By\n",
    "from selenium.webdriver.common.keys import Keys\n",
    "from selenium.webdriver.support.ui import WebDriverWait\n",
    "from selenium.webdriver.support.expected_conditions import (\n",
    "    element_to_be_clickable,\n",
    "    visibility_of_element_located,\n",
    ")\n",
    "\n",
    "import time\n",
    "\n",
    "#This example requires Selenium WebDriver 3.13 or newer\n",
    "with webdriver.Firefox() as driver:\n",
    "    \n",
    "    driver.get(\"https://openbank.es\")\n",
    "    \n",
    "    elements_to_click = [\n",
    "        (By.CLASS_NAME, \"container-cookie-modal-footer-settings-link\"),\n",
    "        (By.CLASS_NAME, \"container-cookie-modal-settings__footer__accept__button\"),\n",
    "        (By.CLASS_NAME, \"openbank-topbar__nav-button--sign-up\"),\n",
    "    ]\n",
    "        \n",
    "    for by, key in elements_to_click:\n",
    "        click_if_clickable(by, key, driver)\n",
    "        \n",
    "    elements_to_input = [\n",
    "        # input fake data\n",
    "        (\"docNumber\", \"93948883R\"),\n",
    "        (\"name\", \"Rodrigo\"),\n",
    "        (\"lastName\", \"Díaz\"),\n",
    "        (\"secondLastName\", \"de Vivar\"),\n",
    "        (\"birthDay\", \"11\"),\n",
    "        (\"birthMonth\", \"2\"),\n",
    "        (\"birthYear\", \"1045\"),\n",
    "    ]\n",
    "    \n",
    "    for id_, key in elements_to_input:\n",
    "        find_field_send_input(id_, key)\n",
    "    time.sleep(20000)\n",
    "    \n",
    "    "
   ]
  },
  {
   "cell_type": "code",
   "execution_count": null,
   "id": "821c2739-5ec6-445c-9d58-b078571b3928",
   "metadata": {},
   "outputs": [],
   "source": []
  }
 ],
 "metadata": {
  "kernelspec": {
   "display_name": "Selenium (python 3.10)",
   "language": "python",
   "name": "selenium"
  },
  "language_info": {
   "codemirror_mode": {
    "name": "ipython",
    "version": 3
   },
   "file_extension": ".py",
   "mimetype": "text/x-python",
   "name": "python",
   "nbconvert_exporter": "python",
   "pygments_lexer": "ipython3",
   "version": "3.10.4"
  }
 },
 "nbformat": 4,
 "nbformat_minor": 5
}
